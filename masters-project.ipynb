{
 "metadata": {
  "kernelspec": {
   "language": "python",
   "display_name": "Python 3",
   "name": "python3"
  },
  "language_info": {
   "name": "python",
   "version": "3.7.12",
   "mimetype": "text/x-python",
   "codemirror_mode": {
    "name": "ipython",
    "version": 3
   },
   "pygments_lexer": "ipython3",
   "nbconvert_exporter": "python",
   "file_extension": ".py"
  }
 },
 "nbformat_minor": 4,
 "nbformat": 4,
 "cells": [
  {
   "cell_type": "code",
   "source": [
    "import numpy as np \n",
    "import pandas as pd \n",
    "! pip install git+https://github.com/tensorflow/examples.git\n",
    "#\n",
    "import tensorflow as tf\n",
    "import tensorflow_datasets as tfds\n",
    "from tensorflow_examples.models.pix2pix import pix2pix\n",
    "\n",
    "import os\n",
    "import time\n",
    "import matplotlib.pyplot as plt\n",
    "from IPython.display import clear_output\n",
    "\n",
    "AUTOTUNE = tf.data.AUTOTUNE\n",
    "import os"
   ],
   "metadata": {
    "_uuid": "8f2839f25d086af736a60e9eeb907d3b93b6e0e5",
    "_cell_guid": "b1076dfc-b9ad-4769-8c92-a6c4dae69d19",
    "execution": {
     "iopub.status.busy": "2022-05-13T11:37:39.031993Z",
     "iopub.execute_input": "2022-05-13T11:37:39.032319Z",
     "iopub.status.idle": "2022-05-13T11:37:53.065806Z",
     "shell.execute_reply.started": "2022-05-13T11:37:39.032271Z",
     "shell.execute_reply": "2022-05-13T11:37:53.064806Z"
    },
    "trusted": true
   },
   "execution_count": 1,
   "outputs": [
    {
     "name": "stderr",
     "output_type": "stream",
     "text": [
      "'pip' is not recognized as an internal or external command,\n",
      "operable program or batch file.\n"
     ]
    },
    {
     "ename": "ModuleNotFoundError",
     "evalue": "No module named 'tensorflow'",
     "output_type": "error",
     "traceback": [
      "\u001B[1;31m---------------------------------------------------------------------------\u001B[0m",
      "\u001B[1;31mModuleNotFoundError\u001B[0m                       Traceback (most recent call last)",
      "Input \u001B[1;32mIn [1]\u001B[0m, in \u001B[0;36m<cell line: 5>\u001B[1;34m()\u001B[0m\n\u001B[0;32m      3\u001B[0m get_ipython()\u001B[38;5;241m.\u001B[39msystem(\u001B[38;5;124m'\u001B[39m\u001B[38;5;124m pip install git+https://github.com/tensorflow/examples.git\u001B[39m\u001B[38;5;124m'\u001B[39m)\n\u001B[0;32m      4\u001B[0m \u001B[38;5;66;03m#\u001B[39;00m\n\u001B[1;32m----> 5\u001B[0m \u001B[38;5;28;01mimport\u001B[39;00m \u001B[38;5;21;01mtensorflow\u001B[39;00m \u001B[38;5;28;01mas\u001B[39;00m \u001B[38;5;21;01mtf\u001B[39;00m\n\u001B[0;32m      6\u001B[0m \u001B[38;5;28;01mimport\u001B[39;00m \u001B[38;5;21;01mtensorflow_datasets\u001B[39;00m \u001B[38;5;28;01mas\u001B[39;00m \u001B[38;5;21;01mtfds\u001B[39;00m\n\u001B[0;32m      7\u001B[0m \u001B[38;5;28;01mfrom\u001B[39;00m \u001B[38;5;21;01mtensorflow_examples\u001B[39;00m\u001B[38;5;21;01m.\u001B[39;00m\u001B[38;5;21;01mmodels\u001B[39;00m\u001B[38;5;21;01m.\u001B[39;00m\u001B[38;5;21;01mpix2pix\u001B[39;00m \u001B[38;5;28;01mimport\u001B[39;00m pix2pix\n",
      "\u001B[1;31mModuleNotFoundError\u001B[0m: No module named 'tensorflow'"
     ]
    }
   ]
  },
  {
   "cell_type": "code",
   "source": [
    "dataset, metadata = tfds.load('cycle_gan/horse2zebra',\n",
    "                              with_info=True, as_supervised=True)\n",
    "\n",
    "train_horses, train_zebras = dataset['trainA'], dataset['trainB']\n",
    "test_horses, test_zebras = dataset['testA'], dataset['testB']"
   ],
   "metadata": {
    "execution": {
     "iopub.status.busy": "2022-05-13T11:37:53.069639Z",
     "iopub.execute_input": "2022-05-13T11:37:53.069855Z",
     "iopub.status.idle": "2022-05-13T11:37:53.384726Z",
     "shell.execute_reply.started": "2022-05-13T11:37:53.069828Z",
     "shell.execute_reply": "2022-05-13T11:37:53.383999Z"
    },
    "trusted": true
   },
   "execution_count": null,
   "outputs": []
  },
  {
   "cell_type": "code",
   "source": [
    "BUFFER_SIZE = 1000\n",
    "BATCH_SIZE = 1\n",
    "IMG_WIDTH = 256\n",
    "IMG_HEIGHT = 256"
   ],
   "metadata": {
    "execution": {
     "iopub.status.busy": "2022-05-13T11:37:53.386154Z",
     "iopub.execute_input": "2022-05-13T11:37:53.387933Z",
     "iopub.status.idle": "2022-05-13T11:37:53.391244Z",
     "shell.execute_reply.started": "2022-05-13T11:37:53.387894Z",
     "shell.execute_reply": "2022-05-13T11:37:53.390604Z"
    },
    "trusted": true
   },
   "execution_count": null,
   "outputs": []
  },
  {
   "cell_type": "code",
   "source": [
    "def random_crop(image):\n",
    "  cropped_image = tf.image.random_crop(\n",
    "      image, size=[IMG_HEIGHT, IMG_WIDTH, 3])\n",
    "  return cropped_image\n",
    "\n",
    "# normalizing the images to [-1, 1]\n",
    "def normalize(image):\n",
    "  image = tf.cast(image, tf.float32)\n",
    "  image = (image / 127.5) - 1\n",
    "  return image\n",
    "\n",
    "def random_jitter(image):\n",
    "  # resizing to 286 x 286 x 3\n",
    "  image = tf.image.resize(image, [286, 286],\n",
    "                          method=tf.image.ResizeMethod.NEAREST_NEIGHBOR)\n",
    "  # randomly cropping to 256 x 256 x 3\n",
    "  image = random_crop(image)\n",
    "  # random mirroring\n",
    "  image = tf.image.random_flip_left_right(image)\n",
    "  return image\n",
    "\n",
    "def preprocess_image_train(image, label):\n",
    "  image = random_jitter(image)\n",
    "  image = normalize(image)\n",
    "  return image\n",
    "\n",
    "def preprocess_image_test(image, label):\n",
    "  image = normalize(image)\n",
    "  return image"
   ],
   "metadata": {
    "execution": {
     "iopub.status.busy": "2022-05-13T11:37:53.393304Z",
     "iopub.execute_input": "2022-05-13T11:37:53.393973Z",
     "iopub.status.idle": "2022-05-13T11:37:53.404268Z",
     "shell.execute_reply.started": "2022-05-13T11:37:53.393936Z",
     "shell.execute_reply": "2022-05-13T11:37:53.403590Z"
    },
    "trusted": true
   },
   "execution_count": null,
   "outputs": []
  },
  {
   "cell_type": "code",
   "source": [
    "train_horses = train_horses.cache().map(\n",
    "    preprocess_image_train, num_parallel_calls=AUTOTUNE).shuffle(\n",
    "    BUFFER_SIZE).batch(BATCH_SIZE)\n",
    "\n",
    "train_zebras = train_zebras.cache().map(\n",
    "    preprocess_image_train, num_parallel_calls=AUTOTUNE).shuffle(\n",
    "    BUFFER_SIZE).batch(BATCH_SIZE)\n",
    "\n",
    "test_horses = test_horses.map(\n",
    "    preprocess_image_test, num_parallel_calls=AUTOTUNE).cache().shuffle(\n",
    "    BUFFER_SIZE).batch(BATCH_SIZE)\n",
    "\n",
    "test_zebras = test_zebras.map(\n",
    "    preprocess_image_test, num_parallel_calls=AUTOTUNE).cache().shuffle(\n",
    "    BUFFER_SIZE).batch(BATCH_SIZE)"
   ],
   "metadata": {
    "execution": {
     "iopub.status.busy": "2022-05-13T11:37:53.405701Z",
     "iopub.execute_input": "2022-05-13T11:37:53.405987Z",
     "iopub.status.idle": "2022-05-13T11:37:53.615298Z",
     "shell.execute_reply.started": "2022-05-13T11:37:53.405949Z",
     "shell.execute_reply": "2022-05-13T11:37:53.614468Z"
    },
    "trusted": true
   },
   "execution_count": null,
   "outputs": []
  },
  {
   "cell_type": "code",
   "source": [
    "sample_horse = next(iter(train_horses))\n",
    "sample_zebra = next(iter(train_zebras))"
   ],
   "metadata": {
    "execution": {
     "iopub.status.busy": "2022-05-13T11:37:53.616374Z",
     "iopub.execute_input": "2022-05-13T11:37:53.616617Z",
     "iopub.status.idle": "2022-05-13T11:38:00.404061Z",
     "shell.execute_reply.started": "2022-05-13T11:37:53.616585Z",
     "shell.execute_reply": "2022-05-13T11:38:00.403251Z"
    },
    "trusted": true
   },
   "execution_count": null,
   "outputs": []
  },
  {
   "cell_type": "code",
   "source": [
    "plt.subplot(121)\n",
    "plt.title('Horse')\n",
    "plt.imshow(sample_horse[0] * 0.5 + 0.5)\n",
    "\n",
    "plt.subplot(122)\n",
    "plt.title('Horse with random jitter')\n",
    "plt.imshow(random_jitter(sample_horse[0]) * 0.5 + 0.5)"
   ],
   "metadata": {
    "execution": {
     "iopub.status.busy": "2022-05-13T11:38:00.405195Z",
     "iopub.execute_input": "2022-05-13T11:38:00.405707Z",
     "iopub.status.idle": "2022-05-13T11:38:00.770565Z",
     "shell.execute_reply.started": "2022-05-13T11:38:00.405662Z",
     "shell.execute_reply": "2022-05-13T11:38:00.769826Z"
    },
    "trusted": true
   },
   "execution_count": null,
   "outputs": []
  },
  {
   "cell_type": "code",
   "source": [
    "plt.subplot(121)\n",
    "plt.title('Zebra')\n",
    "plt.imshow(sample_zebra[0] * 0.5 + 0.5)\n",
    "\n",
    "plt.subplot(122)\n",
    "plt.title('Zebra with random jitter')\n",
    "plt.imshow(random_jitter(sample_zebra[0]) * 0.5 + 0.5)"
   ],
   "metadata": {
    "execution": {
     "iopub.status.busy": "2022-05-13T11:38:00.771527Z",
     "iopub.execute_input": "2022-05-13T11:38:00.771754Z",
     "iopub.status.idle": "2022-05-13T11:38:01.074010Z",
     "shell.execute_reply.started": "2022-05-13T11:38:00.771725Z",
     "shell.execute_reply": "2022-05-13T11:38:01.073358Z"
    },
    "trusted": true
   },
   "execution_count": null,
   "outputs": []
  },
  {
   "cell_type": "code",
   "source": [
    "OUTPUT_CHANNELS = 3\n",
    "\n",
    "generator_g = pix2pix.unet_generator(OUTPUT_CHANNELS, norm_type='instancenorm')\n",
    "generator_f = pix2pix.unet_generator(OUTPUT_CHANNELS, norm_type='instancenorm')\n",
    "\n",
    "discriminator_x = pix2pix.discriminator(norm_type='instancenorm', target=False)\n",
    "discriminator_y = pix2pix.discriminator(norm_type='instancenorm', target=False)"
   ],
   "metadata": {
    "execution": {
     "iopub.status.busy": "2022-05-13T11:38:01.075161Z",
     "iopub.execute_input": "2022-05-13T11:38:01.076026Z",
     "iopub.status.idle": "2022-05-13T11:38:02.446365Z",
     "shell.execute_reply.started": "2022-05-13T11:38:01.075982Z",
     "shell.execute_reply": "2022-05-13T11:38:02.445553Z"
    },
    "trusted": true
   },
   "execution_count": null,
   "outputs": []
  },
  {
   "cell_type": "code",
   "source": [
    "to_zebra = generator_g(sample_horse)\n",
    "to_horse = generator_f(sample_zebra)\n",
    "plt.figure(figsize=(8, 8))\n",
    "contrast = 8\n",
    "\n",
    "imgs = [sample_horse, to_zebra, sample_zebra, to_horse]\n",
    "title = ['Horse', 'To Zebra', 'Zebra', 'To Horse']\n",
    "\n",
    "for i in range(len(imgs)):\n",
    "  plt.subplot(2, 2, i+1)\n",
    "  plt.title(title[i])\n",
    "  if i % 2 == 0:\n",
    "    plt.imshow(imgs[i][0] * 0.5 + 0.5)\n",
    "  else:\n",
    "    plt.imshow(imgs[i][0] * 0.5 * contrast + 0.5)\n",
    "plt.show()"
   ],
   "metadata": {
    "execution": {
     "iopub.status.busy": "2022-05-13T11:38:02.448854Z",
     "iopub.execute_input": "2022-05-13T11:38:02.449046Z",
     "iopub.status.idle": "2022-05-13T11:38:09.452882Z",
     "shell.execute_reply.started": "2022-05-13T11:38:02.449023Z",
     "shell.execute_reply": "2022-05-13T11:38:09.452241Z"
    },
    "trusted": true
   },
   "execution_count": null,
   "outputs": []
  },
  {
   "cell_type": "code",
   "source": [
    "plt.figure(figsize=(8, 8))\n",
    "\n",
    "plt.subplot(121)\n",
    "plt.title('Is a real zebra?')\n",
    "plt.imshow(discriminator_y(sample_zebra)[0, ..., -1], cmap='RdBu_r')\n",
    "\n",
    "plt.subplot(122)\n",
    "plt.title('Is a real horse?')\n",
    "plt.imshow(discriminator_x(sample_horse)[0, ..., -1], cmap='RdBu_r')\n",
    "\n",
    "plt.show()"
   ],
   "metadata": {
    "execution": {
     "iopub.status.busy": "2022-05-13T11:38:09.454017Z",
     "iopub.execute_input": "2022-05-13T11:38:09.454365Z",
     "iopub.status.idle": "2022-05-13T11:38:09.758825Z",
     "shell.execute_reply.started": "2022-05-13T11:38:09.454325Z",
     "shell.execute_reply": "2022-05-13T11:38:09.758127Z"
    },
    "trusted": true
   },
   "execution_count": null,
   "outputs": []
  },
  {
   "cell_type": "code",
   "source": [
    "LAMBDA = 10\n",
    "loss_obj = tf.keras.losses.BinaryCrossentropy(from_logits=True)\n",
    "\n",
    "def discriminator_loss(real, generated):\n",
    "  real_loss = loss_obj(tf.ones_like(real), real)\n",
    "\n",
    "  generated_loss = loss_obj(tf.zeros_like(generated), generated)\n",
    "\n",
    "  total_disc_loss = real_loss + generated_loss\n",
    "\n",
    "  return total_disc_loss * 0.5"
   ],
   "metadata": {
    "execution": {
     "iopub.status.busy": "2022-05-13T11:38:09.760097Z",
     "iopub.execute_input": "2022-05-13T11:38:09.760501Z",
     "iopub.status.idle": "2022-05-13T11:38:09.766430Z",
     "shell.execute_reply.started": "2022-05-13T11:38:09.760463Z",
     "shell.execute_reply": "2022-05-13T11:38:09.765577Z"
    },
    "trusted": true
   },
   "execution_count": null,
   "outputs": []
  },
  {
   "cell_type": "code",
   "source": [
    "def generator_loss(generated):\n",
    "  return loss_obj(tf.ones_like(generated), generated)"
   ],
   "metadata": {
    "execution": {
     "iopub.status.busy": "2022-05-13T11:38:09.767960Z",
     "iopub.execute_input": "2022-05-13T11:38:09.768528Z",
     "iopub.status.idle": "2022-05-13T11:38:09.776900Z",
     "shell.execute_reply.started": "2022-05-13T11:38:09.768489Z",
     "shell.execute_reply": "2022-05-13T11:38:09.776087Z"
    },
    "trusted": true
   },
   "execution_count": null,
   "outputs": []
  },
  {
   "cell_type": "code",
   "source": [
    "def calc_cycle_loss(real_image, cycled_image):\n",
    "  loss1 = tf.reduce_mean(tf.abs(real_image - cycled_image))\n",
    "\n",
    "  return LAMBDA * loss1"
   ],
   "metadata": {
    "execution": {
     "iopub.status.busy": "2022-05-13T11:38:09.778152Z",
     "iopub.execute_input": "2022-05-13T11:38:09.778925Z",
     "iopub.status.idle": "2022-05-13T11:38:09.786611Z",
     "shell.execute_reply.started": "2022-05-13T11:38:09.778893Z",
     "shell.execute_reply": "2022-05-13T11:38:09.785844Z"
    },
    "trusted": true
   },
   "execution_count": null,
   "outputs": []
  },
  {
   "cell_type": "code",
   "source": [
    "def identity_loss(real_image, same_image):\n",
    "  loss = tf.reduce_mean(tf.abs(real_image - same_image))\n",
    "  return LAMBDA * 0.5 * loss"
   ],
   "metadata": {
    "execution": {
     "iopub.status.busy": "2022-05-13T11:38:09.788055Z",
     "iopub.execute_input": "2022-05-13T11:38:09.788492Z",
     "iopub.status.idle": "2022-05-13T11:38:09.796617Z",
     "shell.execute_reply.started": "2022-05-13T11:38:09.788407Z",
     "shell.execute_reply": "2022-05-13T11:38:09.795585Z"
    },
    "trusted": true
   },
   "execution_count": null,
   "outputs": []
  },
  {
   "cell_type": "code",
   "source": [
    "generator_g_optimizer = tf.keras.optimizers.Adam(2e-4, beta_1=0.5)\n",
    "generator_f_optimizer = tf.keras.optimizers.Adam(2e-4, beta_1=0.5)\n",
    "\n",
    "discriminator_x_optimizer = tf.keras.optimizers.Adam(2e-4, beta_1=0.5)\n",
    "discriminator_y_optimizer = tf.keras.optimizers.Adam(2e-4, beta_1=0.5)"
   ],
   "metadata": {
    "execution": {
     "iopub.status.busy": "2022-05-13T11:38:09.798061Z",
     "iopub.execute_input": "2022-05-13T11:38:09.798453Z",
     "iopub.status.idle": "2022-05-13T11:38:09.806128Z",
     "shell.execute_reply.started": "2022-05-13T11:38:09.798417Z",
     "shell.execute_reply": "2022-05-13T11:38:09.805261Z"
    },
    "trusted": true
   },
   "execution_count": null,
   "outputs": []
  },
  {
   "cell_type": "code",
   "source": [
    "checkpoint_path = \"./checkpoints/train\"\n",
    "\n",
    "ckpt = tf.train.Checkpoint(generator_g=generator_g,\n",
    "                           generator_f=generator_f,\n",
    "                           discriminator_x=discriminator_x,\n",
    "                           discriminator_y=discriminator_y,\n",
    "                           generator_g_optimizer=generator_g_optimizer,\n",
    "                           generator_f_optimizer=generator_f_optimizer,\n",
    "                           discriminator_x_optimizer=discriminator_x_optimizer,\n",
    "                           discriminator_y_optimizer=discriminator_y_optimizer)\n",
    "\n",
    "ckpt_manager = tf.train.CheckpointManager(ckpt, checkpoint_path, max_to_keep=5)\n",
    "\n",
    "# if a checkpoint exists, restore the latest checkpoint.\n",
    "if ckpt_manager.latest_checkpoint:\n",
    "  ckpt.restore(ckpt_manager.latest_checkpoint)\n",
    "  print ('Latest checkpoint restored!!')"
   ],
   "metadata": {
    "execution": {
     "iopub.status.busy": "2022-05-13T11:38:09.807523Z",
     "iopub.execute_input": "2022-05-13T11:38:09.808214Z",
     "iopub.status.idle": "2022-05-13T11:38:09.817089Z",
     "shell.execute_reply.started": "2022-05-13T11:38:09.808178Z",
     "shell.execute_reply": "2022-05-13T11:38:09.816226Z"
    },
    "trusted": true
   },
   "execution_count": null,
   "outputs": []
  },
  {
   "cell_type": "code",
   "source": [
    "EPOCHS = 5"
   ],
   "metadata": {
    "execution": {
     "iopub.status.busy": "2022-05-13T11:38:09.819260Z",
     "iopub.execute_input": "2022-05-13T11:38:09.819967Z",
     "iopub.status.idle": "2022-05-13T11:38:09.828644Z",
     "shell.execute_reply.started": "2022-05-13T11:38:09.819934Z",
     "shell.execute_reply": "2022-05-13T11:38:09.827902Z"
    },
    "trusted": true
   },
   "execution_count": null,
   "outputs": []
  },
  {
   "cell_type": "code",
   "source": [
    "def generate_images(model, test_input):\n",
    "  prediction = model(test_input)\n",
    "\n",
    "  plt.figure(figsize=(12, 12))\n",
    "\n",
    "  display_list = [test_input[0], prediction[0]]\n",
    "  title = ['Input Image', 'Predicted Image']\n",
    "\n",
    "  for i in range(2):\n",
    "    plt.subplot(1, 2, i+1)\n",
    "    plt.title(title[i])\n",
    "    # getting the pixel values between [0, 1] to plot it.\n",
    "    plt.imshow(display_list[i] * 0.5 + 0.5)\n",
    "    plt.axis('off')\n",
    "  plt.show()"
   ],
   "metadata": {
    "execution": {
     "iopub.status.busy": "2022-05-13T11:38:09.829892Z",
     "iopub.execute_input": "2022-05-13T11:38:09.830631Z",
     "iopub.status.idle": "2022-05-13T11:38:09.839395Z",
     "shell.execute_reply.started": "2022-05-13T11:38:09.830555Z",
     "shell.execute_reply": "2022-05-13T11:38:09.837926Z"
    },
    "trusted": true
   },
   "execution_count": null,
   "outputs": []
  },
  {
   "cell_type": "code",
   "source": [
    "@tf.function\n",
    "def train_step(real_x, real_y):\n",
    "  # persistent is set to True because the tape is used more than\n",
    "  # once to calculate the gradients.\n",
    "  with tf.GradientTape(persistent=True) as tape:\n",
    "    # Generator G translates X -> Y\n",
    "    # Generator F translates Y -> X.\n",
    "\n",
    "    fake_y = generator_g(real_x, training=True)\n",
    "    cycled_x = generator_f(fake_y, training=True)\n",
    "\n",
    "    fake_x = generator_f(real_y, training=True)\n",
    "    cycled_y = generator_g(fake_x, training=True)\n",
    "\n",
    "    # same_x and same_y are used for identity loss.\n",
    "    same_x = generator_f(real_x, training=True)\n",
    "    same_y = generator_g(real_y, training=True)\n",
    "\n",
    "    disc_real_x = discriminator_x(real_x, training=True)\n",
    "    disc_real_y = discriminator_y(real_y, training=True)\n",
    "\n",
    "    disc_fake_x = discriminator_x(fake_x, training=True)\n",
    "    disc_fake_y = discriminator_y(fake_y, training=True)\n",
    "\n",
    "    # calculate the loss\n",
    "    gen_g_loss = generator_loss(disc_fake_y)\n",
    "    gen_f_loss = generator_loss(disc_fake_x)\n",
    "\n",
    "    total_cycle_loss = calc_cycle_loss(real_x, cycled_x) + calc_cycle_loss(real_y, cycled_y)\n",
    "\n",
    "    # Total generator loss = adversarial loss + cycle loss\n",
    "    total_gen_g_loss = gen_g_loss + total_cycle_loss + identity_loss(real_y, same_y)\n",
    "    total_gen_f_loss = gen_f_loss + total_cycle_loss + identity_loss(real_x, same_x)\n",
    "\n",
    "    disc_x_loss = discriminator_loss(disc_real_x, disc_fake_x)\n",
    "    disc_y_loss = discriminator_loss(disc_real_y, disc_fake_y)\n",
    "\n",
    "  # Calculate the gradients for generator and discriminator\n",
    "  generator_g_gradients = tape.gradient(total_gen_g_loss, \n",
    "                                        generator_g.trainable_variables)\n",
    "  generator_f_gradients = tape.gradient(total_gen_f_loss, \n",
    "                                        generator_f.trainable_variables)\n",
    "\n",
    "  discriminator_x_gradients = tape.gradient(disc_x_loss, \n",
    "                                            discriminator_x.trainable_variables)\n",
    "  discriminator_y_gradients = tape.gradient(disc_y_loss, \n",
    "                                            discriminator_y.trainable_variables)\n",
    "\n",
    "  # Apply the gradients to the optimizer\n",
    "  generator_g_optimizer.apply_gradients(zip(generator_g_gradients, \n",
    "                                            generator_g.trainable_variables))\n",
    "\n",
    "  generator_f_optimizer.apply_gradients(zip(generator_f_gradients, \n",
    "                                            generator_f.trainable_variables))\n",
    "\n",
    "  discriminator_x_optimizer.apply_gradients(zip(discriminator_x_gradients,\n",
    "                                                discriminator_x.trainable_variables))\n",
    "\n",
    "  discriminator_y_optimizer.apply_gradients(zip(discriminator_y_gradients,\n",
    "                                                discriminator_y.trainable_variables))"
   ],
   "metadata": {
    "execution": {
     "iopub.status.busy": "2022-05-13T11:38:09.842366Z",
     "iopub.execute_input": "2022-05-13T11:38:09.842560Z",
     "iopub.status.idle": "2022-05-13T11:38:09.856114Z",
     "shell.execute_reply.started": "2022-05-13T11:38:09.842523Z",
     "shell.execute_reply": "2022-05-13T11:38:09.854267Z"
    },
    "trusted": true
   },
   "execution_count": null,
   "outputs": []
  },
  {
   "cell_type": "code",
   "source": [
    "for epoch in range(EPOCHS):\n",
    "  start = time.time()\n",
    "\n",
    "  n = 0\n",
    "  for image_x, image_y in tf.data.Dataset.zip((train_horses, train_zebras)):\n",
    "    train_step(image_x, image_y)\n",
    "    if n % 10 == 0:\n",
    "      print ('.', end='')\n",
    "    n += 1\n",
    "\n",
    "  clear_output(wait=True)\n",
    "  # Using a consistent image (sample_horse) so that the progress of the model\n",
    "  # is clearly visible.\n",
    "  generate_images(generator_g, sample_horse)\n",
    "\n",
    "  if (epoch + 1) % 5 == 0:\n",
    "    ckpt_save_path = ckpt_manager.save()\n",
    "    print ('Saving checkpoint for epoch {} at {}'.format(epoch+1,\n",
    "                                                         ckpt_save_path))\n",
    "\n",
    "  print ('Time taken for epoch {} is {} sec\\n'.format(epoch + 1,\n",
    "                                                      time.time()-start))"
   ],
   "metadata": {
    "execution": {
     "iopub.status.busy": "2022-05-13T11:38:09.857728Z",
     "iopub.execute_input": "2022-05-13T11:38:09.858501Z",
     "iopub.status.idle": "2022-05-13T11:58:29.374603Z",
     "shell.execute_reply.started": "2022-05-13T11:38:09.858465Z",
     "shell.execute_reply": "2022-05-13T11:58:29.373767Z"
    },
    "trusted": true
   },
   "execution_count": null,
   "outputs": []
  },
  {
   "cell_type": "code",
   "source": [
    "# Run the trained model on the test dataset\n",
    "for inp in test_horses.take(5):\n",
    "  generate_images(generator_g, inp)\n"
   ],
   "metadata": {
    "execution": {
     "iopub.status.busy": "2022-05-13T12:17:00.647688Z",
     "iopub.execute_input": "2022-05-13T12:17:00.648274Z",
     "iopub.status.idle": "2022-05-13T12:17:03.029718Z",
     "shell.execute_reply.started": "2022-05-13T12:17:00.648234Z",
     "shell.execute_reply": "2022-05-13T12:17:03.028987Z"
    },
    "trusted": true,
    "pycharm": {
     "name": "#%%\n"
    }
   },
   "execution_count": null,
   "outputs": []
  }
 ]
}